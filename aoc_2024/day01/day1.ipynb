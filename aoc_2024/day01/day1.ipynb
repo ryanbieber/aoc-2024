{
 "cells": [
  {
   "cell_type": "code",
   "execution_count": 1,
   "metadata": {},
   "outputs": [
    {
     "name": "stdout",
     "output_type": "stream",
     "text": [
      "/home/carnufex/aoc-2024/aoc_2024/day1\n"
     ]
    }
   ],
   "source": [
    "import pathlib\n",
    "ROOT = pathlib.Path().resolve()\n",
    "print(ROOT)"
   ]
  },
  {
   "cell_type": "code",
   "execution_count": 2,
   "metadata": {},
   "outputs": [
    {
     "data": {
      "text/html": [
       "<div><style>\n",
       ".dataframe > thead > tr,\n",
       ".dataframe > tbody > tr {\n",
       "  text-align: right;\n",
       "  white-space: pre-wrap;\n",
       "}\n",
       "</style>\n",
       "<small>shape: (1_000, 4)</small><table border=\"1\" class=\"dataframe\"><thead><tr><th>first</th><th></th><th>_duplicated_0</th><th>second</th></tr><tr><td>i64</td><td>str</td><td>str</td><td>i64</td></tr></thead><tbody><tr><td>18944</td><td>null</td><td>null</td><td>47230</td></tr><tr><td>94847</td><td>null</td><td>null</td><td>63037</td></tr><tr><td>93893</td><td>null</td><td>null</td><td>35622</td></tr><tr><td>37174</td><td>null</td><td>null</td><td>43365</td></tr><tr><td>77982</td><td>null</td><td>null</td><td>51397</td></tr><tr><td>&hellip;</td><td>&hellip;</td><td>&hellip;</td><td>&hellip;</td></tr><tr><td>83605</td><td>null</td><td>null</td><td>21276</td></tr><tr><td>51080</td><td>null</td><td>null</td><td>32589</td></tr><tr><td>16575</td><td>null</td><td>null</td><td>21128</td></tr><tr><td>31651</td><td>null</td><td>null</td><td>49166</td></tr><tr><td>66721</td><td>null</td><td>null</td><td>94774</td></tr></tbody></table></div>"
      ],
      "text/plain": [
       "shape: (1_000, 4)\n",
       "┌───────┬──────┬───────────────┬────────┐\n",
       "│ first ┆      ┆ _duplicated_0 ┆ second │\n",
       "│ ---   ┆ ---  ┆ ---           ┆ ---    │\n",
       "│ i64   ┆ str  ┆ str           ┆ i64    │\n",
       "╞═══════╪══════╪═══════════════╪════════╡\n",
       "│ 18944 ┆ null ┆ null          ┆ 47230  │\n",
       "│ 94847 ┆ null ┆ null          ┆ 63037  │\n",
       "│ 93893 ┆ null ┆ null          ┆ 35622  │\n",
       "│ 37174 ┆ null ┆ null          ┆ 43365  │\n",
       "│ 77982 ┆ null ┆ null          ┆ 51397  │\n",
       "│ …     ┆ …    ┆ …             ┆ …      │\n",
       "│ 83605 ┆ null ┆ null          ┆ 21276  │\n",
       "│ 51080 ┆ null ┆ null          ┆ 32589  │\n",
       "│ 16575 ┆ null ┆ null          ┆ 21128  │\n",
       "│ 31651 ┆ null ┆ null          ┆ 49166  │\n",
       "│ 66721 ┆ null ┆ null          ┆ 94774  │\n",
       "└───────┴──────┴───────────────┴────────┘"
      ]
     },
     "execution_count": 2,
     "metadata": {},
     "output_type": "execute_result"
    }
   ],
   "source": [
    "import polars as pl\n",
    "import pandas as pd\n",
    "df = pl.read_csv(ROOT / \"day1.csv\", has_header=True, separator=\" \")\n",
    "df\n",
    "# df[\"first\"] = df[0].apply(lambda x: x.str.split(\"   \")[0])\n",
    "# df[\"second\"] = df[0].apply(lambda x: x.str.split(\"   \")[1])"
   ]
  },
  {
   "cell_type": "code",
   "execution_count": 3,
   "metadata": {},
   "outputs": [
    {
     "name": "stdout",
     "output_type": "stream",
     "text": [
      "shape: (1_000,)\n",
      "Series: 'first' [i64]\n",
      "[\n",
      "\t10178\n",
      "\t10197\n",
      "\t10212\n",
      "\t10213\n",
      "\t10242\n",
      "\t…\n",
      "\t99414\n",
      "\t99586\n",
      "\t99626\n",
      "\t99730\n",
      "\t99854\n",
      "]\n",
      "shape: (1_000,)\n",
      "Series: 'second' [i64]\n",
      "[\n",
      "\t10024\n",
      "\t10074\n",
      "\t10212\n",
      "\t10212\n",
      "\t10212\n",
      "\t…\n",
      "\t98335\n",
      "\t99080\n",
      "\t99196\n",
      "\t99806\n",
      "\t99891\n",
      "]\n"
     ]
    }
   ],
   "source": [
    "first_sort = df[\"first\"].sort()\n",
    "second_sort = df[\"second\"].sort()\n",
    "print(first_sort)\n",
    "print(second_sort)\n"
   ]
  },
  {
   "cell_type": "code",
   "execution_count": 4,
   "metadata": {},
   "outputs": [
    {
     "data": {
      "text/plain": [
       "1590491"
      ]
     },
     "execution_count": 4,
     "metadata": {},
     "output_type": "execute_result"
    }
   ],
   "source": [
    "abs(first_sort - second_sort).sum()"
   ]
  },
  {
   "cell_type": "code",
   "execution_count": 5,
   "metadata": {},
   "outputs": [
    {
     "name": "stdout",
     "output_type": "stream",
     "text": [
      "Number of duplicates in first_sort present in second_sort: 37\n"
     ]
    }
   ],
   "source": [
    "dupes = first_sort.is_in(second_sort).sum()\n",
    "print(f\"Number of duplicates in first_sort present in second_sort: {dupes}\")"
   ]
  },
  {
   "cell_type": "code",
   "execution_count": null,
   "metadata": {},
   "outputs": [
    {
     "data": {
      "text/html": [
       "<div><style>\n",
       ".dataframe > thead > tr,\n",
       ".dataframe > tbody > tr {\n",
       "  text-align: right;\n",
       "  white-space: pre-wrap;\n",
       "}\n",
       "</style>\n",
       "<small>shape: (1_000,)</small><table border=\"1\" class=\"dataframe\"><thead><tr><th>first</th></tr><tr><td>i64</td></tr></thead><tbody><tr><td>10178</td></tr><tr><td>10197</td></tr><tr><td>10212</td></tr><tr><td>10213</td></tr><tr><td>10242</td></tr><tr><td>&hellip;</td></tr><tr><td>99414</td></tr><tr><td>99586</td></tr><tr><td>99626</td></tr><tr><td>99730</td></tr><tr><td>99854</td></tr></tbody></table></div>"
      ],
      "text/plain": [
       "shape: (1_000,)\n",
       "Series: 'first' [i64]\n",
       "[\n",
       "\t10178\n",
       "\t10197\n",
       "\t10212\n",
       "\t10213\n",
       "\t10242\n",
       "\t…\n",
       "\t99414\n",
       "\t99586\n",
       "\t99626\n",
       "\t99730\n",
       "\t99854\n",
       "]"
      ]
     },
     "execution_count": 6,
     "metadata": {},
     "output_type": "execute_result"
    }
   ],
   "source": []
  },
  {
   "cell_type": "code",
   "execution_count": 81,
   "metadata": {},
   "outputs": [],
   "source": [
    "first_counts = first_sort.value_counts()"
   ]
  },
  {
   "cell_type": "code",
   "execution_count": 83,
   "metadata": {},
   "outputs": [
    {
     "data": {
      "text/plain": [
       "10178"
      ]
     },
     "execution_count": 83,
     "metadata": {},
     "output_type": "execute_result"
    }
   ],
   "source": [
    "first_sort[0]"
   ]
  },
  {
   "cell_type": "code",
   "execution_count": 99,
   "metadata": {},
   "outputs": [
    {
     "name": "stderr",
     "output_type": "stream",
     "text": [
      "/tmp/ipykernel_16407/935838626.py:7: DeprecationWarning: `GroupBy.count` is deprecated. It has been renamed to `len`.\n",
      "  .count()\n"
     ]
    },
    {
     "data": {
      "text/html": [
       "<div><style>\n",
       ".dataframe > thead > tr,\n",
       ".dataframe > tbody > tr {\n",
       "  text-align: right;\n",
       "  white-space: pre-wrap;\n",
       "}\n",
       "</style>\n",
       "<small>shape: (1_000, 2)</small><table border=\"1\" class=\"dataframe\"><thead><tr><th>first</th><th>count</th></tr><tr><td>i64</td><td>u32</td></tr></thead><tbody><tr><td>10178</td><td>1</td></tr><tr><td>10197</td><td>1</td></tr><tr><td>10212</td><td>1</td></tr><tr><td>10213</td><td>1</td></tr><tr><td>10242</td><td>1</td></tr><tr><td>&hellip;</td><td>&hellip;</td></tr><tr><td>99414</td><td>1</td></tr><tr><td>99586</td><td>1</td></tr><tr><td>99626</td><td>1</td></tr><tr><td>99730</td><td>1</td></tr><tr><td>99854</td><td>1</td></tr></tbody></table></div>"
      ],
      "text/plain": [
       "shape: (1_000, 2)\n",
       "┌───────┬───────┐\n",
       "│ first ┆ count │\n",
       "│ ---   ┆ ---   │\n",
       "│ i64   ┆ u32   │\n",
       "╞═══════╪═══════╡\n",
       "│ 10178 ┆ 1     │\n",
       "│ 10197 ┆ 1     │\n",
       "│ 10212 ┆ 1     │\n",
       "│ 10213 ┆ 1     │\n",
       "│ 10242 ┆ 1     │\n",
       "│ …     ┆ …     │\n",
       "│ 99414 ┆ 1     │\n",
       "│ 99586 ┆ 1     │\n",
       "│ 99626 ┆ 1     │\n",
       "│ 99730 ┆ 1     │\n",
       "│ 99854 ┆ 1     │\n",
       "└───────┴───────┘"
      ]
     },
     "execution_count": 99,
     "metadata": {},
     "output_type": "execute_result"
    }
   ],
   "source": [
    "(\n",
    "        pl.DataFrame({\n",
    "        \"first\": first_sort,\n",
    "        \"second\": second_sort\n",
    "    })\n",
    "    .group_by(\"first\")\n",
    "    .count()\n",
    ")"
   ]
  },
  {
   "cell_type": "code",
   "execution_count": 7,
   "metadata": {},
   "outputs": [
    {
     "data": {
      "text/html": [
       "<div><style>\n",
       ".dataframe > thead > tr,\n",
       ".dataframe > tbody > tr {\n",
       "  text-align: right;\n",
       "  white-space: pre-wrap;\n",
       "}\n",
       "</style>\n",
       "<small>shape: (1_000, 4)</small><table border=\"1\" class=\"dataframe\"><thead><tr><th>first</th><th></th><th>_duplicated_0</th><th>second</th></tr><tr><td>i64</td><td>str</td><td>str</td><td>i64</td></tr></thead><tbody><tr><td>18944</td><td>null</td><td>null</td><td>47230</td></tr><tr><td>94847</td><td>null</td><td>null</td><td>63037</td></tr><tr><td>93893</td><td>null</td><td>null</td><td>35622</td></tr><tr><td>37174</td><td>null</td><td>null</td><td>43365</td></tr><tr><td>77982</td><td>null</td><td>null</td><td>51397</td></tr><tr><td>&hellip;</td><td>&hellip;</td><td>&hellip;</td><td>&hellip;</td></tr><tr><td>83605</td><td>null</td><td>null</td><td>21276</td></tr><tr><td>51080</td><td>null</td><td>null</td><td>32589</td></tr><tr><td>16575</td><td>null</td><td>null</td><td>21128</td></tr><tr><td>31651</td><td>null</td><td>null</td><td>49166</td></tr><tr><td>66721</td><td>null</td><td>null</td><td>94774</td></tr></tbody></table></div>"
      ],
      "text/plain": [
       "shape: (1_000, 4)\n",
       "┌───────┬──────┬───────────────┬────────┐\n",
       "│ first ┆      ┆ _duplicated_0 ┆ second │\n",
       "│ ---   ┆ ---  ┆ ---           ┆ ---    │\n",
       "│ i64   ┆ str  ┆ str           ┆ i64    │\n",
       "╞═══════╪══════╪═══════════════╪════════╡\n",
       "│ 18944 ┆ null ┆ null          ┆ 47230  │\n",
       "│ 94847 ┆ null ┆ null          ┆ 63037  │\n",
       "│ 93893 ┆ null ┆ null          ┆ 35622  │\n",
       "│ 37174 ┆ null ┆ null          ┆ 43365  │\n",
       "│ 77982 ┆ null ┆ null          ┆ 51397  │\n",
       "│ …     ┆ …    ┆ …             ┆ …      │\n",
       "│ 83605 ┆ null ┆ null          ┆ 21276  │\n",
       "│ 51080 ┆ null ┆ null          ┆ 32589  │\n",
       "│ 16575 ┆ null ┆ null          ┆ 21128  │\n",
       "│ 31651 ┆ null ┆ null          ┆ 49166  │\n",
       "│ 66721 ┆ null ┆ null          ┆ 94774  │\n",
       "└───────┴──────┴───────────────┴────────┘"
      ]
     },
     "execution_count": 7,
     "metadata": {},
     "output_type": "execute_result"
    }
   ],
   "source": [
    "df"
   ]
  },
  {
   "cell_type": "code",
   "execution_count": 18,
   "metadata": {},
   "outputs": [
    {
     "name": "stdout",
     "output_type": "stream",
     "text": [
      "22588371\n"
     ]
    }
   ],
   "source": [
    "total = 0\n",
    "for row in df.iter_rows():\n",
    "    count = 0\n",
    "    for i in range(0, len(df)):\n",
    "        if row[0] == df[\"second\"][i]:\n",
    "            count += 1\n",
    "    total += count*row[0]\n",
    "print(total)\n",
    "    "
   ]
  },
  {
   "cell_type": "code",
   "execution_count": null,
   "metadata": {},
   "outputs": [],
   "source": []
  },
  {
   "cell_type": "code",
   "execution_count": null,
   "metadata": {},
   "outputs": [],
   "source": []
  }
 ],
 "metadata": {
  "kernelspec": {
   "display_name": "aoc2024",
   "language": "python",
   "name": "python3"
  },
  "language_info": {
   "codemirror_mode": {
    "name": "ipython",
    "version": 3
   },
   "file_extension": ".py",
   "mimetype": "text/x-python",
   "name": "python",
   "nbconvert_exporter": "python",
   "pygments_lexer": "ipython3",
   "version": "3.11.10"
  }
 },
 "nbformat": 4,
 "nbformat_minor": 2
}
